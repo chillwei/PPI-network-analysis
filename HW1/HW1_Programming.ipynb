{
 "cells": [
  {
   "cell_type": "code",
   "execution_count": 1,
   "id": "d82c65d6",
   "metadata": {},
   "outputs": [],
   "source": [
    "import pandas as pd\n",
    "import os\n",
    "import numpy as np\n",
    "import seaborn as sbn\n",
    "import matplotlib.pyplot as plt\n",
    "import networkx as nx"
   ]
  },
  {
   "cell_type": "markdown",
   "id": "3df46f18",
   "metadata": {},
   "source": [
    "## Import data "
   ]
  },
  {
   "cell_type": "code",
   "execution_count": 2,
   "id": "d765ee3b",
   "metadata": {},
   "outputs": [],
   "source": [
    "# import data which has been processed and filtered out self-loop interaction\n",
    "high_data = os.path.join('high_self_loop_filter_data.csv')\n",
    "low_data = os.path.join('low_self_loop_filter_data.csv')\n",
    "physical_data = os.path.join('physical_self_loop_filter_data.csv') "
   ]
  },
  {
   "cell_type": "code",
   "execution_count": 3,
   "id": "515925ed",
   "metadata": {},
   "outputs": [],
   "source": [
    "high_df = pd.read_csv(high_data)\n",
    "low_df = pd.read_csv(low_data)\n",
    "physical_df = pd.read_csv(physical_data)\n"
   ]
  },
  {
   "cell_type": "code",
   "execution_count": 4,
   "id": "7463cf59",
   "metadata": {},
   "outputs": [
    {
     "data": {
      "text/plain": [
       "958249"
      ]
     },
     "execution_count": 4,
     "metadata": {},
     "output_type": "execute_result"
    }
   ],
   "source": [
    "len(physical_df)"
   ]
  },
  {
   "cell_type": "code",
   "execution_count": 5,
   "id": "04a19c39",
   "metadata": {},
   "outputs": [
    {
     "data": {
      "text/html": [
       "<div>\n",
       "<style scoped>\n",
       "    .dataframe tbody tr th:only-of-type {\n",
       "        vertical-align: middle;\n",
       "    }\n",
       "\n",
       "    .dataframe tbody tr th {\n",
       "        vertical-align: top;\n",
       "    }\n",
       "\n",
       "    .dataframe thead th {\n",
       "        text-align: right;\n",
       "    }\n",
       "</style>\n",
       "<table border=\"1\" class=\"dataframe\">\n",
       "  <thead>\n",
       "    <tr style=\"text-align: right;\">\n",
       "      <th></th>\n",
       "      <th>Official Symbol Interactor A</th>\n",
       "      <th>Official Symbol Interactor B</th>\n",
       "      <th>Throughput</th>\n",
       "      <th>Experimental System Type</th>\n",
       "      <th>Experimental System</th>\n",
       "      <th>Publication Source</th>\n",
       "    </tr>\n",
       "  </thead>\n",
       "  <tbody>\n",
       "    <tr>\n",
       "      <th>0</th>\n",
       "      <td>MAP2K4</td>\n",
       "      <td>FLNC</td>\n",
       "      <td>Low Throughput</td>\n",
       "      <td>physical</td>\n",
       "      <td>Two-hybrid</td>\n",
       "      <td>PUBMED:9006895</td>\n",
       "    </tr>\n",
       "    <tr>\n",
       "      <th>1</th>\n",
       "      <td>MYPN</td>\n",
       "      <td>ACTN2</td>\n",
       "      <td>Low Throughput</td>\n",
       "      <td>physical</td>\n",
       "      <td>Two-hybrid</td>\n",
       "      <td>PUBMED:11309420</td>\n",
       "    </tr>\n",
       "    <tr>\n",
       "      <th>2</th>\n",
       "      <td>ACVR1</td>\n",
       "      <td>FNTA</td>\n",
       "      <td>Low Throughput</td>\n",
       "      <td>physical</td>\n",
       "      <td>Two-hybrid</td>\n",
       "      <td>PUBMED:8599089</td>\n",
       "    </tr>\n",
       "    <tr>\n",
       "      <th>3</th>\n",
       "      <td>GATA2</td>\n",
       "      <td>PML</td>\n",
       "      <td>Low Throughput</td>\n",
       "      <td>physical</td>\n",
       "      <td>Two-hybrid</td>\n",
       "      <td>PUBMED:10938104</td>\n",
       "    </tr>\n",
       "    <tr>\n",
       "      <th>4</th>\n",
       "      <td>RPA2</td>\n",
       "      <td>STAT3</td>\n",
       "      <td>Low Throughput</td>\n",
       "      <td>physical</td>\n",
       "      <td>Two-hybrid</td>\n",
       "      <td>PUBMED:10875894</td>\n",
       "    </tr>\n",
       "  </tbody>\n",
       "</table>\n",
       "</div>"
      ],
      "text/plain": [
       "  Official Symbol Interactor A Official Symbol Interactor B      Throughput  \\\n",
       "0                       MAP2K4                         FLNC  Low Throughput   \n",
       "1                         MYPN                        ACTN2  Low Throughput   \n",
       "2                        ACVR1                         FNTA  Low Throughput   \n",
       "3                        GATA2                          PML  Low Throughput   \n",
       "4                         RPA2                        STAT3  Low Throughput   \n",
       "\n",
       "  Experimental System Type Experimental System Publication Source  \n",
       "0                 physical          Two-hybrid     PUBMED:9006895  \n",
       "1                 physical          Two-hybrid    PUBMED:11309420  \n",
       "2                 physical          Two-hybrid     PUBMED:8599089  \n",
       "3                 physical          Two-hybrid    PUBMED:10938104  \n",
       "4                 physical          Two-hybrid    PUBMED:10875894  "
      ]
     },
     "execution_count": 5,
     "metadata": {},
     "output_type": "execute_result"
    }
   ],
   "source": [
    "physical_df.head()"
   ]
  },
  {
   "cell_type": "markdown",
   "id": "4ce66764",
   "metadata": {},
   "source": [
    "## Basic network analysis "
   ]
  },
  {
   "cell_type": "markdown",
   "id": "a83025dc",
   "metadata": {},
   "source": [
    "### Write function to generate basic information of three networks "
   ]
  },
  {
   "cell_type": "markdown",
   "id": "3264d9aa",
   "metadata": {},
   "source": [
    "#### Generate the elements for network analysis\n",
    "Total number of the nodes is equal to the number of elements or different interactor within this ppi network "
   ]
  },
  {
   "cell_type": "code",
   "execution_count": 14,
   "id": "5f61feeb",
   "metadata": {},
   "outputs": [],
   "source": [
    "# this function will turn the col of interactor A and B into two different Series and merge them together to count the number of unique elements\n",
    "def count_node(df):\n",
    "    Col_Interactor_A = df['Official Symbol Interactor A']\n",
    "    Col_Interactor_B = df['Official Symbol Interactor B']\n",
    "    temp_concat = pd.concat([Col_Interactor_A, Col_Interactor_B])\n",
    "    num_node = temp_concat.nunique()\n",
    "    #print('Number of nodes:\\n')\n",
    "    return num_node\n",
    "    "
   ]
  },
  {
   "cell_type": "code",
   "execution_count": 32,
   "id": "a87a3587",
   "metadata": {},
   "outputs": [],
   "source": [
    "# Define the function to count number of different pulications\n",
    "def count_publication(df):\n",
    "    temp_concat = df['Publication Source']\n",
    "    num_pub = temp_concat.nunique()\n",
    "    return num_pub"
   ]
  },
  {
   "cell_type": "code",
   "execution_count": 37,
   "id": "9308e369",
   "metadata": {},
   "outputs": [],
   "source": [
    "# Define the function to count number of interactions which means edges\n",
    "# Found there are some duplicates of same pairs of protein interactions generated from different experimental system.\n",
    "# For further analysis, we need to collapse the pairs and drop these duplicate\n",
    "def drop_duplicate(df):\n",
    "    drop_dup_df = pd.DataFrame()\n",
    "    temp_concat = df[['Official Symbol Interactor A','Official Symbol Interactor B']]\n",
    "    drop_dup_df = df.drop_duplicates()\n",
    "    #num_edge = len(drop_dup_df)\n",
    "    return drop_dup_df"
   ]
  },
  {
   "cell_type": "code",
   "execution_count": 38,
   "id": "2db245a1",
   "metadata": {},
   "outputs": [],
   "source": [
    "# not considering self-loop\n",
    "# filter the self interaction data\n",
    "def filter_self_loop(df):\n",
    "    df2 = df.copy()\n",
    "    for idx, row in df.iterrows():\n",
    "        InteractorA = row['Official Symbol Interactor A']\n",
    "        InteractorB = row['Official Symbol Interactor B']\n",
    "        if InteractorA == InteractorB:\n",
    "            print('Found self-loop')\n",
    "            print(idx)\n",
    "            df2 = df2.drop(idx)\n",
    "    return df2\n",
    "        "
   ]
  },
  {
   "cell_type": "markdown",
   "id": "32e8cfab",
   "metadata": {},
   "source": [
    "#### Run function\n"
   ]
  },
  {
   "cell_type": "code",
   "execution_count": 39,
   "id": "eac0efd3",
   "metadata": {},
   "outputs": [],
   "source": [
    "# drop duplicate first\n",
    "low_df2 = drop_duplicate(low_df)\n",
    "high_df2 = drop_duplicate(high_df)\n",
    "phy_df2 = drop_duplicate(physical_df)"
   ]
  },
  {
   "cell_type": "code",
   "execution_count": 40,
   "id": "4d8d48d8",
   "metadata": {},
   "outputs": [],
   "source": [
    "# low throughput network\n",
    "#low_num_node = count_node(low_df2)\n",
    "low_num_pub = count_publication(low_df2)"
   ]
  },
  {
   "cell_type": "code",
   "execution_count": 45,
   "id": "8802ba44",
   "metadata": {},
   "outputs": [],
   "source": [
    "# high throughput network\n",
    "#high_num_node = count_node(high_df2)\n",
    "high_num_pub = count_publication(high_df2)"
   ]
  },
  {
   "cell_type": "code",
   "execution_count": 46,
   "id": "476eb5ea",
   "metadata": {},
   "outputs": [],
   "source": [
    "# all physical interaction  network\n",
    "#phy_num_node = count_node(phy_df2)\n",
    "phy_num_pub = count_publication(phy_df2)"
   ]
  },
  {
   "cell_type": "markdown",
   "id": "40d44ec5",
   "metadata": {},
   "source": [
    "## Convert dataframe to adjacency matrix\n",
    "According to the protein interaction data, it is undirected graph and shows binary data"
   ]
  },
  {
   "cell_type": "code",
   "execution_count": 70,
   "id": "eb5de3a8",
   "metadata": {},
   "outputs": [],
   "source": [
    "# generate directed graph based on the column of interaction A and B\n",
    "G_low = nx.from_pandas_edgelist(low_df2, \n",
    "                                'Official Symbol Interactor A', \n",
    "                                'Official Symbol Interactor B')"
   ]
  },
  {
   "cell_type": "code",
   "execution_count": 71,
   "id": "6bef2b6c",
   "metadata": {},
   "outputs": [],
   "source": [
    "G_high = nx.from_pandas_edgelist(high_df2, \n",
    "                                 'Official Symbol Interactor A', \n",
    "                                 'Official Symbol Interactor B')"
   ]
  },
  {
   "cell_type": "code",
   "execution_count": 72,
   "id": "5aa48f10",
   "metadata": {},
   "outputs": [],
   "source": [
    "G_phy = nx.from_pandas_edgelist(phy_df2, \n",
    "                                 'Official Symbol Interactor A', \n",
    "                                 'Official Symbol Interactor B')"
   ]
  },
  {
   "cell_type": "markdown",
   "id": "058d603f",
   "metadata": {},
   "source": [
    "### Count edge & node "
   ]
  },
  {
   "cell_type": "code",
   "execution_count": 73,
   "id": "d1cafe60",
   "metadata": {},
   "outputs": [],
   "source": [
    "G_low_edge = G_low.number_of_edges()\n",
    "G_low_node = G_low.number_of_nodes()"
   ]
  },
  {
   "cell_type": "code",
   "execution_count": 74,
   "id": "a3e3d082",
   "metadata": {},
   "outputs": [],
   "source": [
    "G_high_edge = G_high.number_of_edges()\n",
    "G_high_node = G_high.number_of_nodes()"
   ]
  },
  {
   "cell_type": "code",
   "execution_count": 75,
   "id": "42b5ec27",
   "metadata": {},
   "outputs": [],
   "source": [
    "G_phy_edge = G_phy.number_of_edges()\n",
    "G_phy_node = G_phy.number_of_nodes()"
   ]
  },
  {
   "cell_type": "markdown",
   "id": "1f7dffb3",
   "metadata": {},
   "source": [
    "### Count connected components "
   ]
  },
  {
   "cell_type": "code",
   "execution_count": 79,
   "id": "673e3d54",
   "metadata": {},
   "outputs": [],
   "source": [
    "G_low_CC = nx.number_connected_components(G_low)\n",
    "G_high_CC = nx.number_connected_components(G_high)\n",
    "G_phy_CC = nx.number_connected_components(G_phy)"
   ]
  },
  {
   "cell_type": "markdown",
   "id": "97c436da",
   "metadata": {},
   "source": [
    "### Network density "
   ]
  },
  {
   "cell_type": "code",
   "execution_count": 80,
   "id": "d66e8fb0",
   "metadata": {},
   "outputs": [],
   "source": [
    "G_low_density = nx.density(G_low)\n",
    "G_high_density = nx.density(G_high)\n",
    "G_phy_density = nx.density(G_phy)"
   ]
  },
  {
   "cell_type": "code",
   "execution_count": 81,
   "id": "88382083",
   "metadata": {},
   "outputs": [
    {
     "data": {
      "text/plain": [
       "0.0008521973549742003"
      ]
     },
     "execution_count": 81,
     "metadata": {},
     "output_type": "execute_result"
    }
   ],
   "source": [
    "G_low_density"
   ]
  },
  {
   "cell_type": "markdown",
   "id": "9489a226",
   "metadata": {},
   "source": [
    "### Average degree "
   ]
  },
  {
   "cell_type": "code",
   "execution_count": 95,
   "id": "e96f2b64",
   "metadata": {},
   "outputs": [],
   "source": [
    "# Average degree for undirected graph should be the sum of degrees / total nodes\n",
    "def avg_degree(G):\n",
    "    degree_list = [val for (node, val) in G.degree()]\n",
    "    total_degree = sum(degree_list)\n",
    "    avg_degree = total_degree / len(degree_list)\n",
    "    return avg_degree\n",
    "    "
   ]
  },
  {
   "cell_type": "code",
   "execution_count": 98,
   "id": "f041f63c",
   "metadata": {},
   "outputs": [],
   "source": [
    "G_low_avg_degree = avg_degree(G_low)\n",
    "G_high_avg_degree = avg_degree(G_high)\n",
    "G_phy_avg_degree = avg_degree(G_phy)"
   ]
  },
  {
   "cell_type": "code",
   "execution_count": 97,
   "id": "e7d1433f",
   "metadata": {},
   "outputs": [
    {
     "data": {
      "text/plain": [
       "12.505996184246388"
      ]
     },
     "execution_count": 97,
     "metadata": {},
     "output_type": "execute_result"
    }
   ],
   "source": [
    "G_low_avg_degree"
   ]
  },
  {
   "cell_type": "markdown",
   "id": "131848d2",
   "metadata": {},
   "source": [
    "### Generate highest degree "
   ]
  },
  {
   "cell_type": "code",
   "execution_count": 115,
   "id": "b9dafcbe",
   "metadata": {},
   "outputs": [],
   "source": [
    "def generate_highest_degree(G):\n",
    "    sort_degreelist = sorted(G.degree, key=lambda x: x[1], reverse=True)\n",
    "    highest_degree = sort_degreelist[0]\n",
    "    protein = highest_degree[0]\n",
    "    protein_degree = highest_degree[1]\n",
    "    combined_data = protein + ':' + str(protein_degree)\n",
    "                                    \n",
    "    return combined_data\n",
    "    "
   ]
  },
  {
   "cell_type": "code",
   "execution_count": 117,
   "id": "21dbe7c6",
   "metadata": {},
   "outputs": [],
   "source": [
    "G_low_highest_degree = generate_highest_degree(G_low)\n",
    "G_high_highest_degree = generate_highest_degree(G_high)\n",
    "G_phy_highest_degree = generate_highest_degree(G_phy)"
   ]
  },
  {
   "cell_type": "markdown",
   "id": "2ecfd4bd",
   "metadata": {},
   "source": [
    "### Generate highest clustering cofficient"
   ]
  },
  {
   "cell_type": "code",
   "execution_count": 163,
   "id": "e87d178e",
   "metadata": {},
   "outputs": [],
   "source": [
    "from collections import Counter\n",
    "def generate_highest_clucoff(G):\n",
    "    clucoff = nx.clustering(G)\n",
    "    degrees = {node:val for (node, val) in G.degree()}\n",
    "    c = Counter(clucoff)\n",
    "    top100 = c.most_common(100)\n",
    "    #count = 0\n",
    "    for protein, clucoff_value in top100:\n",
    "        if degrees[protein] >= 3:\n",
    "            sample = protein + ':' + str(clucoff_value)\n",
    "        else:\n",
    "            #count += 1\n",
    "            #print(count)\n",
    "            continue\n",
    "            \n",
    "    return sample\n",
    "            "
   ]
  },
  {
   "cell_type": "code",
   "execution_count": 164,
   "id": "d1d6ca18",
   "metadata": {},
   "outputs": [],
   "source": [
    "G_low_clucoff = generate_highest_clucoff(G_low)\n",
    "G_high_clucoff = generate_highest_clucoff(G_high)\n",
    "G_phy_clucoff = generate_highest_clucoff(G_phy)"
   ]
  },
  {
   "cell_type": "code",
   "execution_count": 165,
   "id": "45d81937",
   "metadata": {},
   "outputs": [
    {
     "data": {
      "text/plain": [
       "'PI3:1.0'"
      ]
     },
     "execution_count": 165,
     "metadata": {},
     "output_type": "execute_result"
    }
   ],
   "source": [
    "G_low_clucoff"
   ]
  },
  {
   "cell_type": "markdown",
   "id": "e381a14a",
   "metadata": {},
   "source": [
    "## Generate table for the networks "
   ]
  },
  {
   "cell_type": "code",
   "execution_count": 166,
   "id": "4ef60c94",
   "metadata": {},
   "outputs": [],
   "source": [
    "low_col = [G_low_node,G_low_edge,low_num_pub, G_low_CC, \n",
    "           G_low_density,G_low_avg_degree,G_low_highest_degree,G_low_clucoff]"
   ]
  },
  {
   "cell_type": "code",
   "execution_count": 168,
   "id": "297858d4",
   "metadata": {},
   "outputs": [],
   "source": [
    "high_col = [G_high_node,G_high_edge,high_num_pub, G_high_CC, \n",
    "           G_high_density,G_high_avg_degree,G_high_highest_degree,G_high_clucoff]"
   ]
  },
  {
   "cell_type": "code",
   "execution_count": 169,
   "id": "025ddb7f",
   "metadata": {},
   "outputs": [],
   "source": [
    "phy_col = [G_phy_node,G_phy_edge,phy_num_pub, G_phy_CC, \n",
    "           G_phy_density,G_phy_avg_degree,G_phy_highest_degree,G_phy_clucoff]"
   ]
  },
  {
   "cell_type": "code",
   "execution_count": 175,
   "id": "60c606b3",
   "metadata": {},
   "outputs": [],
   "source": [
    "data_network = {'low throughtput' : low_col,\n",
    "                 'high throughtput' : high_col,\n",
    "                 'all physical interaction' : phy_col,\n",
    "                 'Index Title' : [\"num of nodes\", \"num of edges\", \"num of publications\", \n",
    "                                  \"num of connected components\" , 'network density',\n",
    "                                 'average degree','Protein with the highest degree',\n",
    "                                 'Protein with the highest clustering coefficient(degree ≥ 3)']}"
   ]
  },
  {
   "cell_type": "code",
   "execution_count": 176,
   "id": "13ea16cf",
   "metadata": {},
   "outputs": [],
   "source": [
    "network_df = pd.DataFrame(data_network).set_index('Index Title')"
   ]
  },
  {
   "cell_type": "code",
   "execution_count": 177,
   "id": "5c7233b6",
   "metadata": {},
   "outputs": [
    {
     "data": {
      "text/html": [
       "<div>\n",
       "<style scoped>\n",
       "    .dataframe tbody tr th:only-of-type {\n",
       "        vertical-align: middle;\n",
       "    }\n",
       "\n",
       "    .dataframe tbody tr th {\n",
       "        vertical-align: top;\n",
       "    }\n",
       "\n",
       "    .dataframe thead th {\n",
       "        text-align: right;\n",
       "    }\n",
       "</style>\n",
       "<table border=\"1\" class=\"dataframe\">\n",
       "  <thead>\n",
       "    <tr style=\"text-align: right;\">\n",
       "      <th></th>\n",
       "      <th>low throughtput</th>\n",
       "      <th>high throughtput</th>\n",
       "      <th>all physical interaction</th>\n",
       "    </tr>\n",
       "    <tr>\n",
       "      <th>Index Title</th>\n",
       "      <th></th>\n",
       "      <th></th>\n",
       "      <th></th>\n",
       "    </tr>\n",
       "  </thead>\n",
       "  <tbody>\n",
       "    <tr>\n",
       "      <th>num of nodes</th>\n",
       "      <td>14676</td>\n",
       "      <td>23518</td>\n",
       "      <td>25861</td>\n",
       "    </tr>\n",
       "    <tr>\n",
       "      <th>num of edges</th>\n",
       "      <td>91769</td>\n",
       "      <td>646888</td>\n",
       "      <td>720741</td>\n",
       "    </tr>\n",
       "    <tr>\n",
       "      <th>num of publications</th>\n",
       "      <td>33417</td>\n",
       "      <td>1370</td>\n",
       "      <td>33679</td>\n",
       "    </tr>\n",
       "    <tr>\n",
       "      <th>num of connected components</th>\n",
       "      <td>50</td>\n",
       "      <td>2</td>\n",
       "      <td>1</td>\n",
       "    </tr>\n",
       "    <tr>\n",
       "      <th>network density</th>\n",
       "      <td>0.000852</td>\n",
       "      <td>0.002339</td>\n",
       "      <td>0.002155</td>\n",
       "    </tr>\n",
       "    <tr>\n",
       "      <th>average degree</th>\n",
       "      <td>12.505996</td>\n",
       "      <td>55.012161</td>\n",
       "      <td>55.739608</td>\n",
       "    </tr>\n",
       "    <tr>\n",
       "      <th>Protein with the highest degree</th>\n",
       "      <td>EP300:1089</td>\n",
       "      <td>PLEKHA4:2968</td>\n",
       "      <td>PLEKHA4:2968</td>\n",
       "    </tr>\n",
       "    <tr>\n",
       "      <th>Protein with the highest clustering coefficient(degree ≥ 3)</th>\n",
       "      <td>PI3:1.0</td>\n",
       "      <td>LINC00518:1.0</td>\n",
       "      <td>Haus2:1.0</td>\n",
       "    </tr>\n",
       "  </tbody>\n",
       "</table>\n",
       "</div>"
      ],
      "text/plain": [
       "                                                   low throughtput  \\\n",
       "Index Title                                                          \n",
       "num of nodes                                                 14676   \n",
       "num of edges                                                 91769   \n",
       "num of publications                                          33417   \n",
       "num of connected components                                     50   \n",
       "network density                                           0.000852   \n",
       "average degree                                           12.505996   \n",
       "Protein with the highest degree                         EP300:1089   \n",
       "Protein with the highest clustering coefficient...         PI3:1.0   \n",
       "\n",
       "                                                   high throughtput  \\\n",
       "Index Title                                                           \n",
       "num of nodes                                                  23518   \n",
       "num of edges                                                 646888   \n",
       "num of publications                                            1370   \n",
       "num of connected components                                       2   \n",
       "network density                                            0.002339   \n",
       "average degree                                            55.012161   \n",
       "Protein with the highest degree                        PLEKHA4:2968   \n",
       "Protein with the highest clustering coefficient...    LINC00518:1.0   \n",
       "\n",
       "                                                   all physical interaction  \n",
       "Index Title                                                                  \n",
       "num of nodes                                                          25861  \n",
       "num of edges                                                         720741  \n",
       "num of publications                                                   33679  \n",
       "num of connected components                                               1  \n",
       "network density                                                    0.002155  \n",
       "average degree                                                    55.739608  \n",
       "Protein with the highest degree                                PLEKHA4:2968  \n",
       "Protein with the highest clustering coefficient...                Haus2:1.0  "
      ]
     },
     "execution_count": 177,
     "metadata": {},
     "output_type": "execute_result"
    }
   ],
   "source": [
    "network_df"
   ]
  },
  {
   "cell_type": "markdown",
   "id": "6f58cafa",
   "metadata": {},
   "source": [
    "## Plot degree distribution"
   ]
  },
  {
   "cell_type": "code",
   "execution_count": 180,
   "id": "4b5c784f",
   "metadata": {},
   "outputs": [],
   "source": [
    "degree_sequence_low = sorted([d for n, d in G_low.degree()], reverse=True)\n",
    "#dmax = max(degree_sequence)\n",
    "degree_sequence_high = sorted([d for n, d in G_high.degree()], reverse=True)\n",
    "degree_sequence_phy = sorted([d for n, d in G_phy.degree()], reverse=True)"
   ]
  },
  {
   "cell_type": "code",
   "execution_count": 191,
   "id": "740847e7",
   "metadata": {},
   "outputs": [
    {
     "data": {
      "image/png": "[encoded data removed]",
      "text/plain": [
       "<Figure size 432x288 with 1 Axes>"
      ]
     },
     "metadata": {
      "needs_background": "light"
     },
     "output_type": "display_data"
    }
   ],
   "source": [
    "fig, ax = plt.subplots()\n",
    "\n",
    "p1 = ax.bar(*np.unique(degree_sequence_low, return_counts=True),\n",
    "            label='Low throughput')\n",
    "p2 = ax.bar(*np.unique(degree_sequence_high, return_counts=True),\n",
    "            label='High throughput')\n",
    "p3 = ax.bar(*np.unique(degree_sequence_phy, return_counts=True),\n",
    "            label='All physical interactions')\n",
    "\n",
    "ax.set_ylabel('Frequency')\n",
    "ax.set_title('Degree distribution of three networks')\n",
    "ax.set_xlabel('Degree')\n",
    "ax.set_yscale('log')\n",
    "ax.set_xscale('log')\n",
    "ax.legend()\n",
    "\n",
    "\n",
    "#fig.tight_layout()\n",
    "plt.show()"
   ]
  },
  {
   "cell_type": "code",
   "execution_count": 210,
   "id": "9b203a54",
   "metadata": {},
   "outputs": [],
   "source": [
    "# Since the plot generated above is overlapped, I try separating them and plot in one graph but different subplots to see the distribution of different networks  "
   ]
  },
  {
   "cell_type": "code",
   "execution_count": 209,
   "id": "30cd138e",
   "metadata": {},
   "outputs": [
    {
     "data": {
      "image/png": "[encoded data removed]",
      "text/plain": [
       "<Figure size 1440x720 with 3 Axes>"
      ]
     },
     "metadata": {
      "needs_background": "light"
     },
     "output_type": "display_data"
    }
   ],
   "source": [
    "\n",
    "fig = plt.figure(\"Degree of graphs\", figsize=(20, 10))\n",
    "# Create a gridspec for adding subplots of different sizes\n",
    "axgrid = fig.add_gridspec(15, 4)\n",
    "\n",
    "ax0 = fig.add_subplot(axgrid[0:3, 0:1])\n",
    "ax0.bar(*np.unique(degree_sequence_low, return_counts=True),label = 'low')\n",
    "ax0.set_title(\"Degree histogram of low throughput network\")\n",
    "ax0.set_xlabel(\"Degree\")\n",
    "ax0.set_ylabel(\"# of Nodes\")\n",
    "ax0.set_yscale('log')\n",
    "ax0.set_xscale('log')\n",
    "\n",
    "\n",
    "ax1 = fig.add_subplot(axgrid[0:3, 1:2])\n",
    "ax1.bar(*np.unique(degree_sequence_high, return_counts=True))\n",
    "ax1.set_title(\"Degree histogram of high throughput network\")\n",
    "ax1.set_xlabel(\"Degree\")\n",
    "ax1.set_ylabel(\"# of Nodes\")\n",
    "ax1.set_yscale('log')\n",
    "ax1.set_xscale('log')\n",
    "\n",
    "\n",
    "\n",
    "ax2 = fig.add_subplot(axgrid[0:3, 2:3])\n",
    "ax2.bar(*np.unique(degree_sequence_phy, return_counts=True))\n",
    "ax2.set_title(\"Degree histogram of all physical interaction network\")\n",
    "ax2.set_xlabel(\"Degree\")\n",
    "ax2.set_ylabel(\"# of Nodes\")\n",
    "ax2.set_yscale('log')\n",
    "ax2.set_xscale('log')\n",
    "\n",
    "plt.tight_layout()\n",
    "plt.show()"
   ]
  },
  {
   "cell_type": "markdown",
   "id": "f6a571c6",
   "metadata": {},
   "source": [
    "#### Discussion of results\n",
    "-Q:Are they similar or different? Discuss and provide potential explanations.\n",
    "\n",
    "-A:\n",
    "\n",
    "The distribution of these three networks are pretty similar according to both type of the subplots.\n",
    "First of all, It is probably because all of these three networks are same type of undirected graph and both of the low throughput and high throughput network are the subnetworks of 'all physical interaction' networks.\n",
    "\n",
    "According to the histrogram, we can jump to another conclusion. That is all of these networks are scale-free networks based on their feature in the plots and also the fewer number of connected components in each network."
   ]
  },
  {
   "cell_type": "markdown",
   "id": "4cff9026",
   "metadata": {},
   "source": [
    "## Part 4: further analysis "
   ]
  },
  {
   "cell_type": "code",
   "execution_count": 212,
   "id": "45fc0796",
   "metadata": {},
   "outputs": [],
   "source": [
    "# low throughput network\n",
    "# eigenvector centrality\n",
    "EC = nx.eigenvector_centrality(G_low)"
   ]
  },
  {
   "cell_type": "code",
   "execution_count": 214,
   "id": "589ac9b2",
   "metadata": {},
   "outputs": [],
   "source": [
    "# degree centrality\n",
    "DC = nx.degree_centrality(G_low)"
   ]
  },
  {
   "cell_type": "code",
   "execution_count": 218,
   "id": "61be6c1a",
   "metadata": {},
   "outputs": [],
   "source": [
    "PR = nx.pagerank(G_low)"
   ]
  },
  {
   "cell_type": "code",
   "execution_count": 220,
   "id": "54ddf799",
   "metadata": {},
   "outputs": [],
   "source": [
    "HC = nx.harmonic_centrality(G_low)"
   ]
  },
  {
   "cell_type": "code",
   "execution_count": 221,
   "id": "c3681f05",
   "metadata": {},
   "outputs": [],
   "source": [
    "# Betweenness centrality\n",
    "BC = nx.betweenness_centrality(G_low)"
   ]
  },
  {
   "cell_type": "code",
   "execution_count": 222,
   "id": "6491f9c7",
   "metadata": {},
   "outputs": [],
   "source": [
    "# save the dict in file in case rerun the code\n",
    "save_HC = 'HC_low.txt.'\n",
    "save_BC = 'BC_low.txt.'\n",
    "# save dict in file\n",
    "f1 = open(\"HC_low.txt\",\"w\")\n",
    "# write file\n",
    "f1.write( str(HC) )\n",
    "\n",
    "# close file\n",
    "f1.close()"
   ]
  },
  {
   "cell_type": "code",
   "execution_count": 223,
   "id": "6ba2b698",
   "metadata": {},
   "outputs": [],
   "source": [
    "f2 = open(\"BC_low.txt\",\"w\")\n",
    "# write file\n",
    "f2.write( str(BC) )\n",
    "\n",
    "# close file\n",
    "f2.close()"
   ]
  },
  {
   "cell_type": "markdown",
   "id": "8c4b7259",
   "metadata": {},
   "source": [
    "##### Discussion\n",
    "-Q: Discuss why we choose the harmonic centrality variant of the closeness centrality measure for this particular network.\n",
    "\n",
    "-A: \n",
    "    The reason to choose harmonic centrality variant is because the harmonic centrality algorithm sums the inverse of those distances. This enables it deal with infinite values. In our case, the degree centraility is infinitely small and close to 0, so it is better to use harmonic centrality instead.\n",
    "\n"
   ]
  },
  {
   "cell_type": "markdown",
   "id": "42fd76f3",
   "metadata": {},
   "source": [
    "### Generate pearson coefficient matrix "
   ]
  },
  {
   "cell_type": "code",
   "execution_count": 255,
   "id": "2b13d5a8",
   "metadata": {},
   "outputs": [],
   "source": [
    "# merge all the calculation of centrality in one dataframe"
   ]
  },
  {
   "cell_type": "code",
   "execution_count": 256,
   "id": "7025c4c0",
   "metadata": {},
   "outputs": [],
   "source": [
    "HC_df = pd.DataFrame({'protein': HC.keys(),\n",
    "                   'HC': HC.values()})"
   ]
  },
  {
   "cell_type": "code",
   "execution_count": 257,
   "id": "c4a49157",
   "metadata": {},
   "outputs": [
    {
     "data": {
      "text/html": [
       "<div>\n",
       "<style scoped>\n",
       "    .dataframe tbody tr th:only-of-type {\n",
       "        vertical-align: middle;\n",
       "    }\n",
       "\n",
       "    .dataframe tbody tr th {\n",
       "        vertical-align: top;\n",
       "    }\n",
       "\n",
       "    .dataframe thead th {\n",
       "        text-align: right;\n",
       "    }\n",
       "</style>\n",
       "<table border=\"1\" class=\"dataframe\">\n",
       "  <thead>\n",
       "    <tr style=\"text-align: right;\">\n",
       "      <th></th>\n",
       "      <th>protein</th>\n",
       "      <th>HC</th>\n",
       "    </tr>\n",
       "  </thead>\n",
       "  <tbody>\n",
       "    <tr>\n",
       "      <th>0</th>\n",
       "      <td>Psma6</td>\n",
       "      <td>3676.830952</td>\n",
       "    </tr>\n",
       "    <tr>\n",
       "      <th>1</th>\n",
       "      <td>PVRL2</td>\n",
       "      <td>3603.923810</td>\n",
       "    </tr>\n",
       "    <tr>\n",
       "      <th>2</th>\n",
       "      <td>POLR2C</td>\n",
       "      <td>4879.885714</td>\n",
       "    </tr>\n",
       "    <tr>\n",
       "      <th>3</th>\n",
       "      <td>RPS23</td>\n",
       "      <td>4871.992857</td>\n",
       "    </tr>\n",
       "    <tr>\n",
       "      <th>4</th>\n",
       "      <td>TMED2</td>\n",
       "      <td>3837.265476</td>\n",
       "    </tr>\n",
       "  </tbody>\n",
       "</table>\n",
       "</div>"
      ],
      "text/plain": [
       "  protein           HC\n",
       "0   Psma6  3676.830952\n",
       "1   PVRL2  3603.923810\n",
       "2  POLR2C  4879.885714\n",
       "3   RPS23  4871.992857\n",
       "4   TMED2  3837.265476"
      ]
     },
     "execution_count": 257,
     "metadata": {},
     "output_type": "execute_result"
    }
   ],
   "source": [
    "HC_df.head()"
   ]
  },
  {
   "cell_type": "code",
   "execution_count": 258,
   "id": "66082c2e",
   "metadata": {},
   "outputs": [],
   "source": [
    "DC_df = pd.DataFrame({'protein': DC.keys(),\n",
    "                   'DC': DC.values()})"
   ]
  },
  {
   "cell_type": "code",
   "execution_count": 259,
   "id": "caa213d8",
   "metadata": {},
   "outputs": [],
   "source": [
    "BC_df = pd.DataFrame({'protein': BC.keys(),\n",
    "                   'BC': BC.values()})"
   ]
  },
  {
   "cell_type": "code",
   "execution_count": 260,
   "id": "ae4156ab",
   "metadata": {},
   "outputs": [],
   "source": [
    "PR_df = pd.DataFrame({'protein': PR.keys(),\n",
    "                   'PR': PR.values()})"
   ]
  },
  {
   "cell_type": "code",
   "execution_count": 261,
   "id": "035775b1",
   "metadata": {},
   "outputs": [],
   "source": [
    "EC_df = pd.DataFrame({'protein': EC.keys(),\n",
    "                   'EC': EC.values()})"
   ]
  },
  {
   "cell_type": "code",
   "execution_count": 268,
   "id": "872794e3",
   "metadata": {},
   "outputs": [],
   "source": [
    "dfs = [HC_df, EC_df, DC_df, PR_df,BC_df]\n",
    "dfs = [df.set_index('protein') for df in dfs]\n",
    "centrality_df = dfs[0].join(dfs[1:])"
   ]
  },
  {
   "cell_type": "code",
   "execution_count": 269,
   "id": "5a89a9fa",
   "metadata": {},
   "outputs": [
    {
     "data": {
      "text/html": [
       "<div>\n",
       "<style scoped>\n",
       "    .dataframe tbody tr th:only-of-type {\n",
       "        vertical-align: middle;\n",
       "    }\n",
       "\n",
       "    .dataframe tbody tr th {\n",
       "        vertical-align: top;\n",
       "    }\n",
       "\n",
       "    .dataframe thead th {\n",
       "        text-align: right;\n",
       "    }\n",
       "</style>\n",
       "<table border=\"1\" class=\"dataframe\">\n",
       "  <thead>\n",
       "    <tr style=\"text-align: right;\">\n",
       "      <th></th>\n",
       "      <th>HC</th>\n",
       "      <th>EC</th>\n",
       "      <th>DC</th>\n",
       "      <th>PR</th>\n",
       "      <th>BC</th>\n",
       "    </tr>\n",
       "    <tr>\n",
       "      <th>protein</th>\n",
       "      <th></th>\n",
       "      <th></th>\n",
       "      <th></th>\n",
       "      <th></th>\n",
       "      <th></th>\n",
       "    </tr>\n",
       "  </thead>\n",
       "  <tbody>\n",
       "    <tr>\n",
       "      <th>Psma6</th>\n",
       "      <td>3676.830952</td>\n",
       "      <td>0.000141</td>\n",
       "      <td>0.000068</td>\n",
       "      <td>0.000017</td>\n",
       "      <td>0.000000e+00</td>\n",
       "    </tr>\n",
       "    <tr>\n",
       "      <th>PVRL2</th>\n",
       "      <td>3603.923810</td>\n",
       "      <td>0.000069</td>\n",
       "      <td>0.000136</td>\n",
       "      <td>0.000022</td>\n",
       "      <td>4.886184e-07</td>\n",
       "    </tr>\n",
       "    <tr>\n",
       "      <th>POLR2C</th>\n",
       "      <td>4879.885714</td>\n",
       "      <td>0.009449</td>\n",
       "      <td>0.004089</td>\n",
       "      <td>0.000244</td>\n",
       "      <td>5.668990e-04</td>\n",
       "    </tr>\n",
       "    <tr>\n",
       "      <th>RPS23</th>\n",
       "      <td>4871.992857</td>\n",
       "      <td>0.007148</td>\n",
       "      <td>0.000681</td>\n",
       "      <td>0.000048</td>\n",
       "      <td>9.179669e-06</td>\n",
       "    </tr>\n",
       "    <tr>\n",
       "      <th>TMED2</th>\n",
       "      <td>3837.265476</td>\n",
       "      <td>0.000166</td>\n",
       "      <td>0.000341</td>\n",
       "      <td>0.000036</td>\n",
       "      <td>1.813723e-06</td>\n",
       "    </tr>\n",
       "    <tr>\n",
       "      <th>...</th>\n",
       "      <td>...</td>\n",
       "      <td>...</td>\n",
       "      <td>...</td>\n",
       "      <td>...</td>\n",
       "      <td>...</td>\n",
       "    </tr>\n",
       "    <tr>\n",
       "      <th>Vps18</th>\n",
       "      <td>3557.042857</td>\n",
       "      <td>0.000051</td>\n",
       "      <td>0.000273</td>\n",
       "      <td>0.000034</td>\n",
       "      <td>2.035374e-06</td>\n",
       "    </tr>\n",
       "    <tr>\n",
       "      <th>HERC5</th>\n",
       "      <td>4958.688095</td>\n",
       "      <td>0.010792</td>\n",
       "      <td>0.001772</td>\n",
       "      <td>0.000113</td>\n",
       "      <td>7.103939e-05</td>\n",
       "    </tr>\n",
       "    <tr>\n",
       "      <th>DPF3</th>\n",
       "      <td>4712.502381</td>\n",
       "      <td>0.008565</td>\n",
       "      <td>0.002249</td>\n",
       "      <td>0.000154</td>\n",
       "      <td>2.288067e-04</td>\n",
       "    </tr>\n",
       "    <tr>\n",
       "      <th>MPP2</th>\n",
       "      <td>3794.277381</td>\n",
       "      <td>0.000204</td>\n",
       "      <td>0.000204</td>\n",
       "      <td>0.000025</td>\n",
       "      <td>1.365027e-06</td>\n",
       "    </tr>\n",
       "    <tr>\n",
       "      <th>NMT2</th>\n",
       "      <td>4794.319048</td>\n",
       "      <td>0.005402</td>\n",
       "      <td>0.000341</td>\n",
       "      <td>0.000031</td>\n",
       "      <td>7.578830e-06</td>\n",
       "    </tr>\n",
       "  </tbody>\n",
       "</table>\n",
       "<p>14676 rows × 5 columns</p>\n",
       "</div>"
      ],
      "text/plain": [
       "                  HC        EC        DC        PR            BC\n",
       "protein                                                         \n",
       "Psma6    3676.830952  0.000141  0.000068  0.000017  0.000000e+00\n",
       "PVRL2    3603.923810  0.000069  0.000136  0.000022  4.886184e-07\n",
       "POLR2C   4879.885714  0.009449  0.004089  0.000244  5.668990e-04\n",
       "RPS23    4871.992857  0.007148  0.000681  0.000048  9.179669e-06\n",
       "TMED2    3837.265476  0.000166  0.000341  0.000036  1.813723e-06\n",
       "...              ...       ...       ...       ...           ...\n",
       "Vps18    3557.042857  0.000051  0.000273  0.000034  2.035374e-06\n",
       "HERC5    4958.688095  0.010792  0.001772  0.000113  7.103939e-05\n",
       "DPF3     4712.502381  0.008565  0.002249  0.000154  2.288067e-04\n",
       "MPP2     3794.277381  0.000204  0.000204  0.000025  1.365027e-06\n",
       "NMT2     4794.319048  0.005402  0.000341  0.000031  7.578830e-06\n",
       "\n",
       "[14676 rows x 5 columns]"
      ]
     },
     "execution_count": 269,
     "metadata": {},
     "output_type": "execute_result"
    }
   ],
   "source": [
    "centrality_df"
   ]
  },
  {
   "cell_type": "code",
   "execution_count": 275,
   "id": "40c3f262",
   "metadata": {},
   "outputs": [],
   "source": [
    "pearson_corr = centrality_df.corr(method='pearson')"
   ]
  },
  {
   "cell_type": "code",
   "execution_count": 277,
   "id": "0bbb33b6",
   "metadata": {},
   "outputs": [
    {
     "data": {
      "text/html": [
       "<div>\n",
       "<style scoped>\n",
       "    .dataframe tbody tr th:only-of-type {\n",
       "        vertical-align: middle;\n",
       "    }\n",
       "\n",
       "    .dataframe tbody tr th {\n",
       "        vertical-align: top;\n",
       "    }\n",
       "\n",
       "    .dataframe thead th {\n",
       "        text-align: right;\n",
       "    }\n",
       "</style>\n",
       "<table border=\"1\" class=\"dataframe\">\n",
       "  <thead>\n",
       "    <tr style=\"text-align: right;\">\n",
       "      <th></th>\n",
       "      <th>HC</th>\n",
       "      <th>EC</th>\n",
       "      <th>DC</th>\n",
       "      <th>PR</th>\n",
       "      <th>BC</th>\n",
       "    </tr>\n",
       "  </thead>\n",
       "  <tbody>\n",
       "    <tr>\n",
       "      <th>HC</th>\n",
       "      <td>1.000000</td>\n",
       "      <td>0.582908</td>\n",
       "      <td>0.490868</td>\n",
       "      <td>0.429529</td>\n",
       "      <td>0.265159</td>\n",
       "    </tr>\n",
       "    <tr>\n",
       "      <th>EC</th>\n",
       "      <td>0.582908</td>\n",
       "      <td>1.000000</td>\n",
       "      <td>0.923453</td>\n",
       "      <td>0.843327</td>\n",
       "      <td>0.706933</td>\n",
       "    </tr>\n",
       "    <tr>\n",
       "      <th>DC</th>\n",
       "      <td>0.490868</td>\n",
       "      <td>0.923453</td>\n",
       "      <td>1.000000</td>\n",
       "      <td>0.964283</td>\n",
       "      <td>0.863621</td>\n",
       "    </tr>\n",
       "    <tr>\n",
       "      <th>PR</th>\n",
       "      <td>0.429529</td>\n",
       "      <td>0.843327</td>\n",
       "      <td>0.964283</td>\n",
       "      <td>1.000000</td>\n",
       "      <td>0.896221</td>\n",
       "    </tr>\n",
       "    <tr>\n",
       "      <th>BC</th>\n",
       "      <td>0.265159</td>\n",
       "      <td>0.706933</td>\n",
       "      <td>0.863621</td>\n",
       "      <td>0.896221</td>\n",
       "      <td>1.000000</td>\n",
       "    </tr>\n",
       "  </tbody>\n",
       "</table>\n",
       "</div>"
      ],
      "text/plain": [
       "          HC        EC        DC        PR        BC\n",
       "HC  1.000000  0.582908  0.490868  0.429529  0.265159\n",
       "EC  0.582908  1.000000  0.923453  0.843327  0.706933\n",
       "DC  0.490868  0.923453  1.000000  0.964283  0.863621\n",
       "PR  0.429529  0.843327  0.964283  1.000000  0.896221\n",
       "BC  0.265159  0.706933  0.863621  0.896221  1.000000"
      ]
     },
     "execution_count": 277,
     "metadata": {},
     "output_type": "execute_result"
    }
   ],
   "source": [
    "pearson_corr"
   ]
  },
  {
   "cell_type": "markdown",
   "id": "17035ac9",
   "metadata": {},
   "source": [
    "#### comment on pearson coefficient matrix\n",
    "\n",
    "According to the value in the matrix, eigenvector centrality is highly correlated with degree centrality and Pagerank analysis. Degree centrality is correlated with Pagerank and betweenness centrality. Pagerank value is correlated with betweenness centrality. However, harmonic centrality has poor correlation against any of the other centrality values.\n",
    "\n",
    "The correlations between measures were also quite varied. The high correlation was between eigenvector centrality and degree (average r=0.92), perhaps because both measures are symmetrized and rely, to some extent, on direct connections. \n",
    "\n",
    "Eigenvector centrality is used for undirected graph, while PageRank applies for directed network. However, PageRank uses the indegree as the main measure to estimate the influence level, thus it turns to be a very specific case or variant of Eigenvector centrality. The low throughput network is undirected. So it makes sense if the Pagerank is used for measurement for undirected graph and has high correlation with eigenvector or degree centrality.\n"
   ]
  },
  {
   "cell_type": "code",
   "execution_count": 288,
   "id": "704b6723",
   "metadata": {},
   "outputs": [
    {
     "data": {
      "text/plain": [
       "Text(0.5, 1.0, 'Correlation between eigenvector centrality and harmonic centrality')"
      ]
     },
     "execution_count": 288,
     "metadata": {},
     "output_type": "execute_result"
    },
    {
     "data": {
      "image/png": "[encoded data removed]",
      "text/plain": [
       "<Figure size 432x288 with 1 Axes>"
      ]
     },
     "metadata": {
      "needs_background": "light"
     },
     "output_type": "display_data"
    }
   ],
   "source": [
    "# scatterplot of EC against HC\n",
    "plt.scatter(centrality_df['HC'].values,centrality_df['EC'].values)\n",
    "plt.ylabel('Eigenvector centrality')\n",
    "plt.xlabel('Harmonic centrality')\n",
    "plt.title('Correlation between eigenvector centrality and harmonic centrality')"
   ]
  },
  {
   "cell_type": "markdown",
   "id": "aee5d6c7",
   "metadata": {},
   "source": [
    "#### discussion: leave it for later"
   ]
  },
  {
   "cell_type": "markdown",
   "id": "f8e629e7",
   "metadata": {},
   "source": [
    "### PCA analysis "
   ]
  },
  {
   "cell_type": "code",
   "execution_count": 290,
   "id": "1fda93f5",
   "metadata": {},
   "outputs": [],
   "source": [
    "from sklearn.preprocessing import StandardScaler"
   ]
  },
  {
   "cell_type": "code",
   "execution_count": 294,
   "id": "0c3a2b1e",
   "metadata": {},
   "outputs": [
    {
     "data": {
      "text/plain": [
       "array([[-0.69760801, -0.41840236, -0.36046434, -0.33513402, -0.14307892],\n",
       "       [-0.80811224, -0.42791391, -0.32913595, -0.30231594, -0.14269104],\n",
       "       [ 1.12584357,  0.81217157,  1.48791069,  1.1553326 ,  0.3069439 ],\n",
       "       [ 1.11388049,  0.50790503, -0.07850883, -0.1347838 , -0.13579181],\n",
       "       [-0.45443987, -0.41508327, -0.23515078, -0.21129336, -0.14163913]])"
      ]
     },
     "execution_count": 294,
     "metadata": {},
     "output_type": "execute_result"
    }
   ],
   "source": [
    "# normalize the dataframe\n",
    "df_scaled = StandardScaler().fit_transform(centrality_df)\n",
    "df_scaled[:5]"
   ]
  },
  {
   "cell_type": "code",
   "execution_count": 295,
   "id": "832b1dbc",
   "metadata": {},
   "outputs": [
    {
     "data": {
      "text/plain": [
       "array([[1.00006814, 0.58294728, 0.49090141, 0.42955805, 0.26517679],\n",
       "       [0.58294728, 1.00006814, 0.92351548, 0.84338446, 0.70698107],\n",
       "       [0.49090141, 0.92351548, 1.00006814, 0.96434906, 0.86367955],\n",
       "       [0.42955805, 0.84338446, 0.96434906, 1.00006814, 0.89628166],\n",
       "       [0.26517679, 0.70698107, 0.86367955, 0.89628166, 1.00006814]])"
      ]
     },
     "execution_count": 295,
     "metadata": {},
     "output_type": "execute_result"
    }
   ],
   "source": [
    "# obtain the covariance matrix in Numpy\n",
    "features = df_scaled.T\n",
    "cov_matrix = np.cov(features)\n",
    "cov_matrix[:5]"
   ]
  },
  {
   "cell_type": "code",
   "execution_count": 296,
   "id": "2251350e",
   "metadata": {},
   "outputs": [
    {
     "data": {
      "text/plain": [
       "array([3.87772614, 0.81909306, 0.21222485, 0.07364492, 0.01765174])"
      ]
     },
     "execution_count": 296,
     "metadata": {},
     "output_type": "execute_result"
    }
   ],
   "source": [
    "# Eigendecomposition is a process that decomposes a square matrix into eigenvectors and eigenvalues.\n",
    "values, vectors = np.linalg.eig(cov_matrix)\n",
    "values[:5]"
   ]
  },
  {
   "cell_type": "code",
   "execution_count": 297,
   "id": "990352d1",
   "metadata": {},
   "outputs": [
    {
     "data": {
      "text/plain": [
       "array([[ 0.29538065,  0.87823702,  0.37567919,  0.01524044, -0.00910376],\n",
       "       [ 0.4733794 ,  0.13274562, -0.69211797,  0.4245313 ,  0.31470054],\n",
       "       [ 0.50018894, -0.09328831, -0.18537543, -0.23175148, -0.80810613],\n",
       "       [ 0.48938487, -0.19255891,  0.10508804, -0.68237834,  0.49672912],\n",
       "       [ 0.44606691, -0.40656696,  0.5782995 ,  0.54789776,  0.03324692]])"
      ]
     },
     "execution_count": 297,
     "metadata": {},
     "output_type": "execute_result"
    }
   ],
   "source": [
    "vectors[:5]"
   ]
  },
  {
   "cell_type": "code",
   "execution_count": 299,
   "id": "f4be1ec0",
   "metadata": {},
   "outputs": [
    {
     "name": "stdout",
     "output_type": "stream",
     "text": [
      "1.0 \n",
      " [0.7754923838944795, 0.1638074499794626, 0.042442077130328035, 0.014727981106545907, 0.003530107889183974]\n"
     ]
    }
   ],
   "source": [
    "# calculate the percentage of explained variance per principal component:\n",
    "explained_variances = []\n",
    "for i in range(len(values)):\n",
    "    explained_variances.append(values[i] / np.sum(values))\n",
    " \n",
    "print(np.sum(explained_variances), '\\n', explained_variances)"
   ]
  },
  {
   "cell_type": "code",
   "execution_count": 300,
   "id": "b2f39547",
   "metadata": {},
   "outputs": [
    {
     "data": {
      "text/plain": [
       "array([0.29538065, 0.4733794 , 0.50018894, 0.48938487, 0.44606691])"
      ]
     },
     "execution_count": 300,
     "metadata": {},
     "output_type": "execute_result"
    }
   ],
   "source": [
    "vectors.T[0]"
   ]
  },
  {
   "cell_type": "code",
   "execution_count": 306,
   "id": "890b9c8c",
   "metadata": {},
   "outputs": [
    {
     "data": {
      "text/html": [
       "<div>\n",
       "<style scoped>\n",
       "    .dataframe tbody tr th:only-of-type {\n",
       "        vertical-align: middle;\n",
       "    }\n",
       "\n",
       "    .dataframe tbody tr th {\n",
       "        vertical-align: top;\n",
       "    }\n",
       "\n",
       "    .dataframe thead th {\n",
       "        text-align: right;\n",
       "    }\n",
       "</style>\n",
       "<table border=\"1\" class=\"dataframe\">\n",
       "  <thead>\n",
       "    <tr style=\"text-align: right;\">\n",
       "      <th></th>\n",
       "      <th>PC1</th>\n",
       "      <th>PC2</th>\n",
       "      <th>protein</th>\n",
       "    </tr>\n",
       "  </thead>\n",
       "  <tbody>\n",
       "    <tr>\n",
       "      <th>0</th>\n",
       "      <td>-0.812256</td>\n",
       "      <td>-0.511875</td>\n",
       "      <td>Psma6</td>\n",
       "    </tr>\n",
       "    <tr>\n",
       "      <th>1</th>\n",
       "      <td>-0.817495</td>\n",
       "      <td>-0.619586</td>\n",
       "      <td>PVRL2</td>\n",
       "    </tr>\n",
       "    <tr>\n",
       "      <th>2</th>\n",
       "      <td>2.163574</td>\n",
       "      <td>0.610502</td>\n",
       "      <td>POLR2C</td>\n",
       "    </tr>\n",
       "    <tr>\n",
       "      <th>3</th>\n",
       "      <td>0.403648</td>\n",
       "      <td>1.134159</td>\n",
       "      <td>RPS23</td>\n",
       "    </tr>\n",
       "    <tr>\n",
       "      <th>4</th>\n",
       "      <td>-0.614929</td>\n",
       "      <td>-0.333997</td>\n",
       "      <td>TMED2</td>\n",
       "    </tr>\n",
       "  </tbody>\n",
       "</table>\n",
       "</div>"
      ],
      "text/plain": [
       "        PC1       PC2 protein\n",
       "0 -0.812256 -0.511875   Psma6\n",
       "1 -0.817495 -0.619586   PVRL2\n",
       "2  2.163574  0.610502  POLR2C\n",
       "3  0.403648  1.134159   RPS23\n",
       "4 -0.614929 -0.333997   TMED2"
      ]
     },
     "execution_count": 306,
     "metadata": {},
     "output_type": "execute_result"
    }
   ],
   "source": [
    "projected_1 = df_scaled.dot(vectors.T[0])\n",
    "projected_2 = df_scaled.dot(vectors.T[1])\n",
    "res = pd.DataFrame(projected_1, columns=['PC1'])\n",
    "res['PC2'] = projected_2\n",
    "res['protein'] = centrality_df.index\n",
    "res.head()\n"
   ]
  },
  {
   "cell_type": "markdown",
   "id": "414f3519",
   "metadata": {},
   "source": [
    "### Normalization of the dataframe"
   ]
  },
  {
   "cell_type": "code",
   "execution_count": 309,
   "id": "d231c19c",
   "metadata": {},
   "outputs": [],
   "source": [
    "#define scaler\n",
    "scaler = StandardScaler()\n",
    "#create copy of DataFrame\n",
    "scaled_df=centrality_df.copy()"
   ]
  },
  {
   "cell_type": "code",
   "execution_count": 311,
   "id": "d0b15af0",
   "metadata": {},
   "outputs": [],
   "source": [
    "# create scaled version of dataframe\n",
    "scaled_df = pd.DataFrame(scaler.fit_transform(scaled_df), columns=scaled_df.columns)"
   ]
  },
  {
   "cell_type": "code",
   "execution_count": 312,
   "id": "09e704f4",
   "metadata": {},
   "outputs": [
    {
     "data": {
      "text/html": [
       "<div>\n",
       "<style scoped>\n",
       "    .dataframe tbody tr th:only-of-type {\n",
       "        vertical-align: middle;\n",
       "    }\n",
       "\n",
       "    .dataframe tbody tr th {\n",
       "        vertical-align: top;\n",
       "    }\n",
       "\n",
       "    .dataframe thead th {\n",
       "        text-align: right;\n",
       "    }\n",
       "</style>\n",
       "<table border=\"1\" class=\"dataframe\">\n",
       "  <thead>\n",
       "    <tr style=\"text-align: right;\">\n",
       "      <th></th>\n",
       "      <th>HC</th>\n",
       "      <th>EC</th>\n",
       "      <th>DC</th>\n",
       "      <th>PR</th>\n",
       "      <th>BC</th>\n",
       "    </tr>\n",
       "  </thead>\n",
       "  <tbody>\n",
       "    <tr>\n",
       "      <th>0</th>\n",
       "      <td>-0.697608</td>\n",
       "      <td>-0.418402</td>\n",
       "      <td>-0.360464</td>\n",
       "      <td>-0.335134</td>\n",
       "      <td>-0.143079</td>\n",
       "    </tr>\n",
       "    <tr>\n",
       "      <th>1</th>\n",
       "      <td>-0.808112</td>\n",
       "      <td>-0.427914</td>\n",
       "      <td>-0.329136</td>\n",
       "      <td>-0.302316</td>\n",
       "      <td>-0.142691</td>\n",
       "    </tr>\n",
       "    <tr>\n",
       "      <th>2</th>\n",
       "      <td>1.125844</td>\n",
       "      <td>0.812172</td>\n",
       "      <td>1.487911</td>\n",
       "      <td>1.155333</td>\n",
       "      <td>0.306944</td>\n",
       "    </tr>\n",
       "    <tr>\n",
       "      <th>3</th>\n",
       "      <td>1.113880</td>\n",
       "      <td>0.507905</td>\n",
       "      <td>-0.078509</td>\n",
       "      <td>-0.134784</td>\n",
       "      <td>-0.135792</td>\n",
       "    </tr>\n",
       "    <tr>\n",
       "      <th>4</th>\n",
       "      <td>-0.454440</td>\n",
       "      <td>-0.415083</td>\n",
       "      <td>-0.235151</td>\n",
       "      <td>-0.211293</td>\n",
       "      <td>-0.141639</td>\n",
       "    </tr>\n",
       "    <tr>\n",
       "      <th>...</th>\n",
       "      <td>...</td>\n",
       "      <td>...</td>\n",
       "      <td>...</td>\n",
       "      <td>...</td>\n",
       "      <td>...</td>\n",
       "    </tr>\n",
       "    <tr>\n",
       "      <th>14671</th>\n",
       "      <td>-0.879169</td>\n",
       "      <td>-0.430361</td>\n",
       "      <td>-0.266479</td>\n",
       "      <td>-0.225502</td>\n",
       "      <td>-0.141463</td>\n",
       "    </tr>\n",
       "    <tr>\n",
       "      <th>14672</th>\n",
       "      <td>1.245283</td>\n",
       "      <td>0.989708</td>\n",
       "      <td>0.422745</td>\n",
       "      <td>0.298211</td>\n",
       "      <td>-0.086686</td>\n",
       "    </tr>\n",
       "    <tr>\n",
       "      <th>14673</th>\n",
       "      <td>0.872143</td>\n",
       "      <td>0.695336</td>\n",
       "      <td>0.642044</td>\n",
       "      <td>0.562469</td>\n",
       "      <td>0.038555</td>\n",
       "    </tr>\n",
       "    <tr>\n",
       "      <th>14674</th>\n",
       "      <td>-0.519596</td>\n",
       "      <td>-0.410145</td>\n",
       "      <td>-0.297808</td>\n",
       "      <td>-0.284778</td>\n",
       "      <td>-0.141995</td>\n",
       "    </tr>\n",
       "    <tr>\n",
       "      <th>14675</th>\n",
       "      <td>0.996151</td>\n",
       "      <td>0.277128</td>\n",
       "      <td>-0.235151</td>\n",
       "      <td>-0.246768</td>\n",
       "      <td>-0.137063</td>\n",
       "    </tr>\n",
       "  </tbody>\n",
       "</table>\n",
       "<p>14676 rows × 5 columns</p>\n",
       "</div>"
      ],
      "text/plain": [
       "             HC        EC        DC        PR        BC\n",
       "0     -0.697608 -0.418402 -0.360464 -0.335134 -0.143079\n",
       "1     -0.808112 -0.427914 -0.329136 -0.302316 -0.142691\n",
       "2      1.125844  0.812172  1.487911  1.155333  0.306944\n",
       "3      1.113880  0.507905 -0.078509 -0.134784 -0.135792\n",
       "4     -0.454440 -0.415083 -0.235151 -0.211293 -0.141639\n",
       "...         ...       ...       ...       ...       ...\n",
       "14671 -0.879169 -0.430361 -0.266479 -0.225502 -0.141463\n",
       "14672  1.245283  0.989708  0.422745  0.298211 -0.086686\n",
       "14673  0.872143  0.695336  0.642044  0.562469  0.038555\n",
       "14674 -0.519596 -0.410145 -0.297808 -0.284778 -0.141995\n",
       "14675  0.996151  0.277128 -0.235151 -0.246768 -0.137063\n",
       "\n",
       "[14676 rows x 5 columns]"
      ]
     },
     "execution_count": 312,
     "metadata": {},
     "output_type": "execute_result"
    }
   ],
   "source": [
    "scaled_df"
   ]
  },
  {
   "cell_type": "markdown",
   "id": "f3b148c9",
   "metadata": {},
   "source": [
    "### Perform PCA and generate plot "
   ]
  },
  {
   "cell_type": "code",
   "execution_count": 313,
   "id": "d6508bc7",
   "metadata": {},
   "outputs": [],
   "source": [
    "# perform PCA\n",
    "from sklearn.decomposition import PCA\n",
    "\n",
    "#define PCA model to use\n",
    "pca = PCA(n_components=5)\n",
    "\n",
    "#fit PCA model to data\n",
    "pca_fit = pca.fit(scaled_df)"
   ]
  },
  {
   "cell_type": "code",
   "execution_count": 315,
   "id": "5e9a3515",
   "metadata": {},
   "outputs": [
    {
     "data": {
      "image/png": "[encoded data removed]",
      "text/plain": [
       "<Figure size 432x288 with 1 Axes>"
      ]
     },
     "metadata": {
      "needs_background": "light"
     },
     "output_type": "display_data"
    }
   ],
   "source": [
    "# create scree plot\n",
    "PC_values = np.arange(pca.n_components_) + 1\n",
    "plt.plot(PC_values, pca.explained_variance_ratio_, 'o-', linewidth=2, color='blue')\n",
    "plt.title('Scree Plot')\n",
    "plt.xlabel('Principal Component')\n",
    "plt.ylabel('Variance Explained')\n",
    "plt.show()"
   ]
  },
  {
   "cell_type": "code",
   "execution_count": 316,
   "id": "8b3341a4",
   "metadata": {},
   "outputs": [
    {
     "name": "stdout",
     "output_type": "stream",
     "text": [
      "[0.77549238 0.16380745 0.04244208 0.01472798 0.00353011]\n"
     ]
    }
   ],
   "source": [
    "print(pca.explained_variance_ratio_)"
   ]
  },
  {
   "cell_type": "markdown",
   "id": "893c4d84",
   "metadata": {},
   "source": [
    "#### comment on PCA component - scree plot\n",
    "The first principal component explains 77.55% of the total variation in the dataset.\n",
    "The second principal component explains 16.38.74% of the total variation."
   ]
  },
  {
   "cell_type": "code",
   "execution_count": 317,
   "id": "4ba0b883",
   "metadata": {},
   "outputs": [
    {
     "data": {
      "image/png": "[encoded data removed]",
      "text/plain": [
       "<Figure size 432x288 with 1 Axes>"
      ]
     },
     "metadata": {
      "needs_background": "light"
     },
     "output_type": "display_data"
    }
   ],
   "source": [
    "# cumulative scree plot?? or cumulative variance plot\n",
    "percentage_var_explained = pca.explained_variance_ratio_;  \n",
    "cum_var_explained=np.cumsum(percentage_var_explained)\n",
    "#plot PCA spectrum   \n",
    "plt.figure(1,figsize=(6,4))\n",
    "plt.clf()  \n",
    "plt.plot(cum_var_explained,linewidth=2)  \n",
    "plt.axis('tight')  \n",
    "plt.grid() \n",
    "plt.xlabel('n_components') \n",
    "plt.ylabel('Cumulative_Variance_explained')  \n",
    "plt.show()"
   ]
  },
  {
   "cell_type": "code",
   "execution_count": 318,
   "id": "4e317b96",
   "metadata": {},
   "outputs": [
    {
     "data": {
      "text/plain": [
       "array([0.77549238, 0.93929983, 0.98174191, 0.99646989, 1.        ])"
      ]
     },
     "execution_count": 318,
     "metadata": {},
     "output_type": "execute_result"
    }
   ],
   "source": [
    "cum_var_explained"
   ]
  },
  {
   "cell_type": "markdown",
   "id": "64192fe5",
   "metadata": {},
   "source": [
    "#### PCA compenent - cumulative variance plot\n",
    "The first principal component explains 77.55% of the total variation in the dataset.\n",
    "The second principal component explains 93.92% of the total variation."
   ]
  },
  {
   "cell_type": "code",
   "execution_count": 321,
   "id": "31d355bc",
   "metadata": {},
   "outputs": [
    {
     "data": {
      "text/plain": [
       "array([0.77549238, 0.16380745, 0.04244208, 0.01472798, 0.00353011])"
      ]
     },
     "execution_count": 321,
     "metadata": {},
     "output_type": "execute_result"
    }
   ],
   "source": [
    "pca.explained_variance_ratio_"
   ]
  },
  {
   "cell_type": "markdown",
   "id": "c7037614",
   "metadata": {},
   "source": [
    "### Loadings of PCA"
   ]
  },
  {
   "cell_type": "code",
   "execution_count": 322,
   "id": "f120befe",
   "metadata": {},
   "outputs": [
    {
     "data": {
      "text/html": [
       "<div>\n",
       "<style scoped>\n",
       "    .dataframe tbody tr th:only-of-type {\n",
       "        vertical-align: middle;\n",
       "    }\n",
       "\n",
       "    .dataframe tbody tr th {\n",
       "        vertical-align: top;\n",
       "    }\n",
       "\n",
       "    .dataframe thead th {\n",
       "        text-align: right;\n",
       "    }\n",
       "</style>\n",
       "<table border=\"1\" class=\"dataframe\">\n",
       "  <thead>\n",
       "    <tr style=\"text-align: right;\">\n",
       "      <th></th>\n",
       "      <th>PC1</th>\n",
       "      <th>PC2</th>\n",
       "      <th>protein</th>\n",
       "    </tr>\n",
       "  </thead>\n",
       "  <tbody>\n",
       "    <tr>\n",
       "      <th>0</th>\n",
       "      <td>-0.812256</td>\n",
       "      <td>-0.511875</td>\n",
       "      <td>Psma6</td>\n",
       "    </tr>\n",
       "    <tr>\n",
       "      <th>1</th>\n",
       "      <td>-0.817495</td>\n",
       "      <td>-0.619586</td>\n",
       "      <td>PVRL2</td>\n",
       "    </tr>\n",
       "    <tr>\n",
       "      <th>2</th>\n",
       "      <td>2.163574</td>\n",
       "      <td>0.610502</td>\n",
       "      <td>POLR2C</td>\n",
       "    </tr>\n",
       "    <tr>\n",
       "      <th>3</th>\n",
       "      <td>0.403648</td>\n",
       "      <td>1.134159</td>\n",
       "      <td>RPS23</td>\n",
       "    </tr>\n",
       "    <tr>\n",
       "      <th>4</th>\n",
       "      <td>-0.614929</td>\n",
       "      <td>-0.333997</td>\n",
       "      <td>TMED2</td>\n",
       "    </tr>\n",
       "  </tbody>\n",
       "</table>\n",
       "</div>"
      ],
      "text/plain": [
       "        PC1       PC2 protein\n",
       "0 -0.812256 -0.511875   Psma6\n",
       "1 -0.817495 -0.619586   PVRL2\n",
       "2  2.163574  0.610502  POLR2C\n",
       "3  0.403648  1.134159   RPS23\n",
       "4 -0.614929 -0.333997   TMED2"
      ]
     },
     "execution_count": 322,
     "metadata": {},
     "output_type": "execute_result"
    }
   ],
   "source": [
    "projected_1 = df_scaled.dot(vectors.T[0])\n",
    "projected_2 = df_scaled.dot(vectors.T[1])\n",
    "res = pd.DataFrame(projected_1, columns=['PC1'])\n",
    "res['PC2'] = projected_2\n",
    "res['protein'] = centrality_df.index\n",
    "res.head()"
   ]
  },
  {
   "cell_type": "markdown",
   "id": "1266d156",
   "metadata": {},
   "source": [
    "#### discussion (d)\n",
    "have no f**king idea to analyze the result\n"
   ]
  },
  {
   "cell_type": "code",
   "execution_count": null,
   "id": "a883b4d0",
   "metadata": {},
   "outputs": [],
   "source": []
  }
 ],
 "metadata": {
  "kernelspec": {
   "display_name": "Python 3 (ipykernel)",
   "language": "python",
   "name": "python3"
  },
  "language_info": {
   "codemirror_mode": {
    "name": "ipython",
    "version": 3
   },
   "file_extension": ".py",
   "mimetype": "text/x-python",
   "name": "python",
   "nbconvert_exporter": "python",
   "pygments_lexer": "ipython3",
   "version": "3.8.8"
  }
 },
 "nbformat": 4,
 "nbformat_minor": 5
}
