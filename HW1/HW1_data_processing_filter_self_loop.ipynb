{
 "cells": [
  {
   "cell_type": "markdown",
   "id": "4fc3695f",
   "metadata": {},
   "source": [
    "This python file is used to filter out the self interaction data and rewrite it in new "
   ]
  },
  {
   "cell_type": "code",
   "execution_count": 12,
   "id": "35cfe602",
   "metadata": {},
   "outputs": [],
   "source": [
    "import pandas as pd\n",
    "import os\n",
    "import numpy as np\n",
    "import seaborn as sbn\n",
    "import matplotlib.pyplot as plt\n",
    "import networkx as nx"
   ]
  },
  {
   "cell_type": "code",
   "execution_count": 13,
   "id": "bab6dc14",
   "metadata": {},
   "outputs": [],
   "source": [
    "# import data\n",
    "data = os.path.join('BIOGRID-ORGANISM-Homo_sapiens-4.4.205.tab3.txt')"
   ]
  },
  {
   "cell_type": "code",
   "execution_count": 14,
   "id": "a5558652",
   "metadata": {},
   "outputs": [
    {
     "name": "stderr",
     "output_type": "stream",
     "text": [
      "/Users/weiqiyao/opt/anaconda3/lib/python3.8/site-packages/IPython/core/interactiveshell.py:3457: DtypeWarning: Columns (1,2,18) have mixed types.Specify dtype option on import or set low_memory=False.\n",
      "  exec(code_obj, self.user_global_ns, self.user_ns)\n"
     ]
    }
   ],
   "source": [
    "df = pd.read_csv(data,delimiter=\"\\t\")"
   ]
  },
  {
   "cell_type": "code",
   "execution_count": 15,
   "id": "9f8e3cea",
   "metadata": {},
   "outputs": [],
   "source": [
    "# simplify the dataframe by only showing the data we are going to use later for network analysis\n",
    "df2 = df[['Official Symbol Interactor A','Official Symbol Interactor B','Throughput','Experimental System Type','Experimental System','Publication Source']]"
   ]
  },
  {
   "cell_type": "code",
   "execution_count": 16,
   "id": "1fdea1d6",
   "metadata": {},
   "outputs": [],
   "source": [
    "# all physical interaction\n",
    "physical_df = df2.loc[df['Experimental System Type'] == 'physical']\n",
    "#physical_df.head()"
   ]
  },
  {
   "cell_type": "code",
   "execution_count": 17,
   "id": "c14a1c42",
   "metadata": {},
   "outputs": [],
   "source": [
    "# separate different network as required\n",
    "# low throughput\n",
    "low_df = physical_df.loc[df['Throughput'] == 'Low Throughput']\n",
    "#low_df.head()"
   ]
  },
  {
   "cell_type": "code",
   "execution_count": 18,
   "id": "8116707b",
   "metadata": {},
   "outputs": [],
   "source": [
    "# high throughput\n",
    "high_df = physical_df.loc[df['Throughput'] == 'High Throughput']\n",
    "#high_df.head()"
   ]
  },
  {
   "cell_type": "code",
   "execution_count": null,
   "id": "fa313e39",
   "metadata": {},
   "outputs": [],
   "source": [
    "# save all the data frame as csv\n",
    "physical_df.to_csv('physical_df.csv',index= False)\n",
    "low_df.to_csv('low_df.csv',index= False)\n",
    "high_df.to_csv('high_df.csv',index= False)"
   ]
  },
  {
   "cell_type": "code",
   "execution_count": 7,
   "id": "afe90d35",
   "metadata": {},
   "outputs": [],
   "source": [
    "# path\n",
    "#high_data = os.path.join('high_df.csv')\n",
    "#low_data = os.path.join('low_df.csv')\n",
    "#physical_data = os.path.join('physical_df.csv') \n"
   ]
  },
  {
   "cell_type": "code",
   "execution_count": 11,
   "id": "a1433694",
   "metadata": {},
   "outputs": [],
   "source": [
    "#high_df = pd.read_csv(high_data)\n",
    "#low_df = pd.read_csv(low_data)\n",
    "#physical_df = pd.read_csv(physical_data)"
   ]
  },
  {
   "cell_type": "code",
   "execution_count": 10,
   "id": "e39a33a6",
   "metadata": {},
   "outputs": [],
   "source": [
    "# not considering self-loop\n",
    "# filter the self interaction data\n",
    "def filter_self_loop(df):\n",
    "    df2 = df.copy()\n",
    "    for idx, row in df.iterrows():\n",
    "        InteractorA = row['Official Symbol Interactor A']\n",
    "        InteractorB = row['Official Symbol Interactor B']\n",
    "        if InteractorA == InteractorB:\n",
    "            print('Found self-loop')\n",
    "            print(idx)\n",
    "            df2 = df2.drop(idx)\n",
    "    return df2\n",
    "        "
   ]
  },
  {
   "cell_type": "code",
   "execution_count": null,
   "id": "1b1bc40a",
   "metadata": {},
   "outputs": [],
   "source": [
    "high_filter  = filter_self_loop(high_df)"
   ]
  },
  {
   "cell_type": "code",
   "execution_count": null,
   "id": "f0ab6eda",
   "metadata": {},
   "outputs": [],
   "source": [
    "high_filter.to_csv('high_self_loop_filter_data.csv',index= False)"
   ]
  },
  {
   "cell_type": "code",
   "execution_count": null,
   "id": "17f1821b",
   "metadata": {},
   "outputs": [],
   "source": [
    "low_filter  = filter_self_loop(low_df)"
   ]
  },
  {
   "cell_type": "code",
   "execution_count": null,
   "id": "f5aade9a",
   "metadata": {},
   "outputs": [],
   "source": [
    "low_filter.to_csv('low_self_loop_filter_data.csv',index= False)"
   ]
  },
  {
   "cell_type": "code",
   "execution_count": null,
   "id": "06bcd64b",
   "metadata": {},
   "outputs": [],
   "source": [
    "physical_filter  = filter_self_loop(physical_df)"
   ]
  },
  {
   "cell_type": "code",
   "execution_count": null,
   "id": "2c2d11b7",
   "metadata": {},
   "outputs": [],
   "source": [
    "physical_filter.to_csv('physical_self_loop_filter_data.csv',index= False)"
   ]
  }
 ],
 "metadata": {
  "kernelspec": {
   "display_name": "Python 3 (ipykernel)",
   "language": "python",
   "name": "python3"
  },
  "language_info": {
   "codemirror_mode": {
    "name": "ipython",
    "version": 3
   },
   "file_extension": ".py",
   "mimetype": "text/x-python",
   "name": "python",
   "nbconvert_exporter": "python",
   "pygments_lexer": "ipython3",
   "version": "3.8.8"
  }
 },
 "nbformat": 4,
 "nbformat_minor": 5
}
