{
 "cells": [
  {
   "cell_type": "markdown",
   "id": "22888d94",
   "metadata": {},
   "source": [
    "# 1. Theoretical part"
   ]
  },
  {
   "cell_type": "code",
   "execution_count": 1,
   "id": "0c0a0b2f",
   "metadata": {},
   "outputs": [],
   "source": [
    "import networkx as nx\n",
    "import pandas as pd\n",
    "import numpy as np\n",
    "import matplotlib.pyplot as plt"
   ]
  },
  {
   "cell_type": "markdown",
   "id": "6167b042",
   "metadata": {},
   "source": [
    "## 1.1 simple graph"
   ]
  },
  {
   "cell_type": "code",
   "execution_count": 2,
   "id": "603d5cb7",
   "metadata": {},
   "outputs": [],
   "source": [
    "G = nx.Graph()"
   ]
  },
  {
   "cell_type": "code",
   "execution_count": 3,
   "id": "9c98cd14",
   "metadata": {},
   "outputs": [],
   "source": [
    "G.add_nodes_from([1, 2, 3, 4, 5])"
   ]
  },
  {
   "cell_type": "code",
   "execution_count": 4,
   "id": "5aa226c0",
   "metadata": {},
   "outputs": [],
   "source": [
    "G.add_edges_from([(1, 2), (1, 3),(1,4),(1,5),(2,1),(2,4),(3,1),(3,4),(3,5),(4,1),(4,2),(4,3),(5,1),(5,3)])"
   ]
  },
  {
   "cell_type": "code",
   "execution_count": 5,
   "id": "37a6bcce",
   "metadata": {},
   "outputs": [
    {
     "data": {
      "text/plain": [
       "7"
      ]
     },
     "execution_count": 5,
     "metadata": {},
     "output_type": "execute_result"
    }
   ],
   "source": [
    "G.number_of_edges()"
   ]
  },
  {
   "cell_type": "code",
   "execution_count": 6,
   "id": "c9bf787d",
   "metadata": {},
   "outputs": [
    {
     "data": {
      "image/png": "[encoded data removed]",
      "text/plain": [
       "<Figure size 432x288 with 1 Axes>"
      ]
     },
     "metadata": {},
     "output_type": "display_data"
    }
   ],
   "source": [
    "nx.draw_networkx(G)"
   ]
  },
  {
   "cell_type": "code",
   "execution_count": 7,
   "id": "9cf3b49c",
   "metadata": {},
   "outputs": [
    {
     "name": "stdout",
     "output_type": "stream",
     "text": [
      "[[0 1 1 1 1]\n",
      " [1 0 0 1 0]\n",
      " [1 0 0 1 1]\n",
      " [1 1 1 0 0]\n",
      " [1 0 1 0 0]]\n"
     ]
    }
   ],
   "source": [
    "# adjacency matric representation\n",
    "A = nx.adjacency_matrix(G)\n",
    "print(A.todense())"
   ]
  },
  {
   "cell_type": "code",
   "execution_count": 8,
   "id": "c471108d",
   "metadata": {},
   "outputs": [
    {
     "data": {
      "text/plain": [
       "DegreeView({1: 4, 2: 2, 3: 3, 4: 3, 5: 2})"
      ]
     },
     "execution_count": 8,
     "metadata": {},
     "output_type": "execute_result"
    }
   ],
   "source": [
    "# degree\n",
    "G.degree([1, 2, 3 , 4, 5])"
   ]
  },
  {
   "cell_type": "code",
   "execution_count": 9,
   "id": "17ee593f",
   "metadata": {},
   "outputs": [
    {
     "data": {
      "text/plain": [
       "{1: 0.5590326188442775,\n",
       " 2: 0.35054183735438676,\n",
       " 3: 0.46995923844336235,\n",
       " 4: 0.46995923844336235,\n",
       " 5: 0.35054183735438676}"
      ]
     },
     "execution_count": 9,
     "metadata": {},
     "output_type": "execute_result"
    }
   ],
   "source": [
    "# eigenvector centrality\n",
    "centrality = nx.eigenvector_centrality(G)\n",
    "centrality"
   ]
  },
  {
   "cell_type": "code",
   "execution_count": 10,
   "id": "412d8729",
   "metadata": {},
   "outputs": [],
   "source": [
    "# betweenness centrality\n",
    "betweenness_centrality = nx.betweenness_centrality(G)"
   ]
  },
  {
   "cell_type": "code",
   "execution_count": 11,
   "id": "bf1026ab",
   "metadata": {},
   "outputs": [
    {
     "data": {
      "text/plain": [
       "{1: 0.3333333333333333,\n",
       " 2: 0.0,\n",
       " 3: 0.08333333333333333,\n",
       " 4: 0.08333333333333333,\n",
       " 5: 0.0}"
      ]
     },
     "execution_count": 11,
     "metadata": {},
     "output_type": "execute_result"
    }
   ],
   "source": [
    "betweenness_centrality"
   ]
  },
  {
   "cell_type": "markdown",
   "id": "07e182ea",
   "metadata": {},
   "source": [
    "#### iii Discuss what information each type of centrality calculated in (ii) gives you about the individual vertices and how they differ.\n",
    "\n",
    "Eigenvector centrality gives us the measure of the influence of each node in this network. Since it is an undirected graph and plus no weight is represented by each nodes, the node highly linked shows higher eigenvector centrality here.(e.g. node1)\n",
    "\n",
    "Betweenness centrality quantifies how many times a particular node comes in the shortest chosen path between two other nodes which is different from eigenvector centrality. Betweenness centrality represents the degree to which nodes strand between each other, so it is related to the connectivity of the network. The value calculated here tells us higher betweenness vertices have higher potential do disconnect the graph if removed. "
   ]
  },
  {
   "cell_type": "markdown",
   "id": "333ba241",
   "metadata": {},
   "source": [
    "#### iv bipartite graph"
   ]
  },
  {
   "cell_type": "code",
   "execution_count": 12,
   "id": "b3e9051f",
   "metadata": {},
   "outputs": [],
   "source": [
    "from networkx.algorithms import bipartite"
   ]
  },
  {
   "cell_type": "code",
   "execution_count": 13,
   "id": "758b9493",
   "metadata": {},
   "outputs": [],
   "source": [
    "G2 = nx.Graph()\n",
    "G2.add_nodes_from([1, 2, 3], bipartite=0)\n",
    "G2.add_nodes_from([4, 5], bipartite=1)\n"
   ]
  },
  {
   "cell_type": "code",
   "execution_count": 14,
   "id": "caa5ebf6",
   "metadata": {},
   "outputs": [],
   "source": [
    "G2.add_edges_from([(1,4),(1,5),(2,4),(3,4),(3,5)])"
   ]
  },
  {
   "cell_type": "code",
   "execution_count": 15,
   "id": "252acc7e",
   "metadata": {},
   "outputs": [],
   "source": [
    "top = nx.bipartite.sets(G2)[0]\n",
    "pos = nx.bipartite_layout(G2, top)"
   ]
  },
  {
   "cell_type": "code",
   "execution_count": 16,
   "id": "579c3cef",
   "metadata": {},
   "outputs": [],
   "source": [
    "# nx.draw_networkx(G2)\n",
    "# need to figure out this later"
   ]
  },
  {
   "cell_type": "code",
   "execution_count": 17,
   "id": "1fb2636c",
   "metadata": {},
   "outputs": [
    {
     "data": {
      "text/plain": [
       "{1: 0.16666666666666666,\n",
       " 2: 0.0,\n",
       " 3: 0.16666666666666666,\n",
       " 4: 0.5833333333333333,\n",
       " 5: 0.08333333333333333}"
      ]
     },
     "execution_count": 17,
     "metadata": {},
     "output_type": "execute_result"
    }
   ],
   "source": [
    "# betweenness centrality\n",
    "betweenness_centrality2 = nx.betweenness_centrality(G2)\n",
    "betweenness_centrality2"
   ]
  },
  {
   "cell_type": "markdown",
   "id": "20305669",
   "metadata": {},
   "source": [
    "### idk how to do this\n",
    "Is it possible to derive a generalized solution for the betweenness centralities of complete bipartite graphs? If yes, please provide the mathematical derivation and result."
   ]
  },
  {
   "cell_type": "markdown",
   "id": "ee685d4e",
   "metadata": {},
   "source": [
    "## 1.2 a directed graph"
   ]
  },
  {
   "cell_type": "markdown",
   "id": "be1b2a3d",
   "metadata": {},
   "source": [
    "### i"
   ]
  },
  {
   "cell_type": "code",
   "execution_count": 18,
   "id": "31a76218",
   "metadata": {},
   "outputs": [],
   "source": [
    "dir_G = nx.DiGraph()\n",
    "dir_G.add_nodes_from([1, 2, 3, 4, 5 , 6])"
   ]
  },
  {
   "cell_type": "code",
   "execution_count": 19,
   "id": "a1535603",
   "metadata": {},
   "outputs": [],
   "source": [
    "dir_G.add_edges_from([(1, 2),(2,3),(3,1),(1,5),(4,3),(4,5),(4,6),(6,5)])"
   ]
  },
  {
   "cell_type": "code",
   "execution_count": 20,
   "id": "6229a020",
   "metadata": {},
   "outputs": [
    {
     "data": {
      "image/png": "[encoded data removed]",
      "text/plain": [
       "<Figure size 432x288 with 1 Axes>"
      ]
     },
     "metadata": {},
     "output_type": "display_data"
    }
   ],
   "source": [
    "nx.draw_networkx(dir_G,node_color='w', edgecolors='k', width=2.0, with_labels=True)"
   ]
  },
  {
   "cell_type": "code",
   "execution_count": 21,
   "id": "7e39f424",
   "metadata": {},
   "outputs": [
    {
     "name": "stdout",
     "output_type": "stream",
     "text": [
      "[[0 1 0 0 1 0]\n",
      " [0 0 1 0 0 0]\n",
      " [1 0 0 0 0 0]\n",
      " [0 0 1 0 1 1]\n",
      " [0 0 0 0 0 0]\n",
      " [0 0 0 0 1 0]]\n"
     ]
    }
   ],
   "source": [
    "# adjacency matrix\n",
    "A_dir = nx.adjacency_matrix(dir_G)\n",
    "print(A_dir.todense())"
   ]
  },
  {
   "cell_type": "code",
   "execution_count": 22,
   "id": "5192f4b6",
   "metadata": {},
   "outputs": [
    {
     "data": {
      "text/plain": [
       "{1: [2, 5], 2: [3], 3: [1], 4: [3, 5, 6], 5: [], 6: [5]}"
      ]
     },
     "execution_count": 22,
     "metadata": {},
     "output_type": "execute_result"
    }
   ],
   "source": [
    "#adjacency list:\n",
    "nx.to_dict_of_lists(dir_G)"
   ]
  },
  {
   "cell_type": "code",
   "execution_count": 23,
   "id": "7fdc3d55",
   "metadata": {},
   "outputs": [
    {
     "data": {
      "text/plain": [
       "OutEdgeDataView([(1, 2, {}), (1, 5, {}), (2, 3, {}), (3, 1, {}), (4, 3, {}), (4, 5, {}), (4, 6, {}), (6, 5, {})])"
      ]
     },
     "execution_count": 23,
     "metadata": {},
     "output_type": "execute_result"
    }
   ],
   "source": [
    "# edge list\n",
    "nx.to_edgelist(dir_G)"
   ]
  },
  {
   "cell_type": "markdown",
   "id": "2b871dc7",
   "metadata": {},
   "source": [
    "### ii"
   ]
  },
  {
   "cell_type": "code",
   "execution_count": 24,
   "id": "f039fa79",
   "metadata": {},
   "outputs": [],
   "source": [
    "\n",
    "A_dir_matrix = A_dir.todense()"
   ]
  },
  {
   "cell_type": "code",
   "execution_count": 25,
   "id": "15839101",
   "metadata": {},
   "outputs": [
    {
     "data": {
      "text/plain": [
       "matrix([[0, 1, 0, 0, 1, 0],\n",
       "        [0, 0, 1, 0, 0, 0],\n",
       "        [1, 0, 0, 0, 0, 0],\n",
       "        [0, 0, 1, 0, 1, 1],\n",
       "        [0, 0, 0, 0, 0, 0],\n",
       "        [0, 0, 0, 0, 1, 0]])"
      ]
     },
     "execution_count": 25,
     "metadata": {},
     "output_type": "execute_result"
    }
   ],
   "source": [
    "A_dir_matrix"
   ]
  },
  {
   "cell_type": "code",
   "execution_count": 26,
   "id": "d2d462a2",
   "metadata": {},
   "outputs": [
    {
     "data": {
      "text/plain": [
       "matrix([[0, 0, 1, 0, 0, 0],\n",
       "        [1, 0, 0, 0, 0, 0],\n",
       "        [0, 1, 0, 0, 1, 0],\n",
       "        [1, 0, 0, 0, 1, 0],\n",
       "        [0, 0, 0, 0, 0, 0],\n",
       "        [0, 0, 0, 0, 0, 0]])"
      ]
     },
     "execution_count": 26,
     "metadata": {},
     "output_type": "execute_result"
    }
   ],
   "source": [
    "A_dir_square = A_dir_matrix * A_dir_matrix\n",
    "A_dir_square"
   ]
  },
  {
   "cell_type": "code",
   "execution_count": 27,
   "id": "5cc3672a",
   "metadata": {},
   "outputs": [],
   "source": [
    "G_square = nx.DiGraph() \n",
    "G_square.add_nodes_from([1, 2, 3, 4, 5 , 6])\n",
    "G_square.add_edges_from([(1, 2),(1,4),(2,3),(5,3),(3,1),(5,3),(5,4)])"
   ]
  },
  {
   "cell_type": "code",
   "execution_count": 28,
   "id": "2dc27c2f",
   "metadata": {},
   "outputs": [
    {
     "data": {
      "image/png": "[encoded data removed]",
      "text/plain": [
       "<Figure size 432x288 with 1 Axes>"
      ]
     },
     "metadata": {},
     "output_type": "display_data"
    }
   ],
   "source": [
    "nx.draw_networkx(G_square,node_color='w', edgecolors='k', width=2.0, with_labels=True)"
   ]
  },
  {
   "cell_type": "code",
   "execution_count": 29,
   "id": "85baac96",
   "metadata": {},
   "outputs": [
    {
     "data": {
      "text/plain": [
       "{1: 0.2, 2: 0.05, 3: 0.2, 4: 0.0, 5: 0.0, 6: 0.0}"
      ]
     },
     "execution_count": 29,
     "metadata": {},
     "output_type": "execute_result"
    }
   ],
   "source": [
    "nx.betweenness_centrality(G_square)"
   ]
  },
  {
   "cell_type": "code",
   "execution_count": 30,
   "id": "eceb1a01",
   "metadata": {},
   "outputs": [
    {
     "data": {
      "text/plain": [
       "{1: 0.4999992400396687,\n",
       " 2: 0.49999888241238627,\n",
       " 3: 0.4999992400396687,\n",
       " 4: 0.500002637498852,\n",
       " 5: 1.7881364122693114e-07,\n",
       " 6: 1.7881364122693114e-07}"
      ]
     },
     "execution_count": 30,
     "metadata": {},
     "output_type": "execute_result"
    }
   ],
   "source": [
    "nx.eigenvector_centrality(G_square)"
   ]
  },
  {
   "cell_type": "markdown",
   "id": "a17f6cbf",
   "metadata": {},
   "source": [
    "#### Comment on what each element of A2 represents.\n",
    "\n",
    "The number of edges decrease from 7 to 6. And the Vertice 6 is not connected with the network anymore.\n",
    "Vertices 1 and 3 share same betweeness centrality and eigenvector centrality, while vertices 4,5 and 6 show 0 betweenness centrality within the directed graph. Surprisingly, v4 has the highest eigenvector centrality but 0 betweenness centrality. V5 and 6 represent loweset eigenvector centrality which means these two nodes do not have vital impact to the network.\n",
    "\n"
   ]
  },
  {
   "cell_type": "markdown",
   "id": "8b348e36",
   "metadata": {},
   "source": [
    "### iii"
   ]
  },
  {
   "cell_type": "code",
   "execution_count": 31,
   "id": "e0127188",
   "metadata": {},
   "outputs": [],
   "source": [
    "# suppose it is undirected graph\n",
    "undir_G = nx.Graph()\n",
    "undir_G.add_nodes_from([1, 2, 3, 4, 5 , 6])"
   ]
  },
  {
   "cell_type": "code",
   "execution_count": 32,
   "id": "fbfe0a6c",
   "metadata": {},
   "outputs": [],
   "source": [
    "undir_G = nx.Graph()\n",
    "undir_G.add_nodes_from([1, 2, 3, 4, 5,6])\n",
    "A_undir = np.array([[0, 1, 1, 0, 1, 0],\n",
    "              [1, 0, 1, 0, 0, 0],\n",
    "              [1, 1, 0, 1, 0, 0],\n",
    "              [0, 0, 1, 0, 1, 1],\n",
    "              [1, 0, 0, 1, 0, 1],\n",
    "              [0, 0, 0, 1, 1, 0]])\n"
   ]
  },
  {
   "cell_type": "code",
   "execution_count": 33,
   "id": "14140df1",
   "metadata": {},
   "outputs": [],
   "source": [
    "undir_G = nx.from_numpy_matrix(A_undir)"
   ]
  },
  {
   "cell_type": "code",
   "execution_count": 34,
   "id": "aeda5078",
   "metadata": {},
   "outputs": [
    {
     "data": {
      "image/png": "[encoded data removed]",
      "text/plain": [
       "<Figure size 432x288 with 1 Axes>"
      ]
     },
     "metadata": {},
     "output_type": "display_data"
    }
   ],
   "source": [
    "nx.draw_networkx(undir_G,node_color='w', edgecolors='k', width=2.0, with_labels=True)"
   ]
  },
  {
   "cell_type": "code",
   "execution_count": 35,
   "id": "7ca47614",
   "metadata": {},
   "outputs": [
    {
     "data": {
      "text/plain": [
       "array([[0, 1, 1, 0, 1, 0],\n",
       "       [1, 0, 1, 0, 0, 0],\n",
       "       [1, 1, 0, 1, 0, 0],\n",
       "       [0, 0, 1, 0, 1, 1],\n",
       "       [1, 0, 0, 1, 0, 1],\n",
       "       [0, 0, 0, 1, 1, 0]])"
      ]
     },
     "execution_count": 35,
     "metadata": {},
     "output_type": "execute_result"
    }
   ],
   "source": [
    "A_undir_square = A_undir * A_undir\n",
    "A_undir_square"
   ]
  },
  {
   "cell_type": "code",
   "execution_count": null,
   "id": "2f2323fc",
   "metadata": {},
   "outputs": [],
   "source": []
  },
  {
   "cell_type": "code",
   "execution_count": null,
   "id": "8e6cf33d",
   "metadata": {},
   "outputs": [],
   "source": []
  },
  {
   "cell_type": "markdown",
   "id": "8145c1d3",
   "metadata": {},
   "source": [
    "# 2. Programming part"
   ]
  },
  {
   "cell_type": "code",
   "execution_count": null,
   "id": "3034f0ce",
   "metadata": {},
   "outputs": [],
   "source": []
  }
 ],
 "metadata": {
  "kernelspec": {
   "display_name": "Python 3 (ipykernel)",
   "language": "python",
   "name": "python3"
  },
  "language_info": {
   "codemirror_mode": {
    "name": "ipython",
    "version": 3
   },
   "file_extension": ".py",
   "mimetype": "text/x-python",
   "name": "python",
   "nbconvert_exporter": "python",
   "pygments_lexer": "ipython3",
   "version": "3.8.8"
  }
 },
 "nbformat": 4,
 "nbformat_minor": 5
}
